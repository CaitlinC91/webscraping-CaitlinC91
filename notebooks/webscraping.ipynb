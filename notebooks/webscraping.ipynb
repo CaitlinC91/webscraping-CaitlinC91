{
 "cells": [
  {
   "attachments": {},
   "cell_type": "markdown",
   "metadata": {},
   "source": [
    "## Webscraping\n",
    "\n",
    "In this exercise, you'll practice using BeautifulSoup to parse the content of a web page. The page that you'll be scraping, https://realpython.github.io/fake-jobs/, contains job listings. Your job is to extract the data on each job and convert into a pandas DataFrame."
   ]
  },
  {
   "attachments": {},
   "cell_type": "markdown",
   "metadata": {},
   "source": [
    "\n",
    "\n",
    "1. Start by performing a GET request on the url above and convert the response into a BeautifulSoup object.  \n",
    "a. Use the .find method to find the tag containing the first job title (\"Senior Python Developer\"). Hint: can you find a tag type and/or a class that could be helpful for extracting this information? Extract the text from this title.  \n"
   ]
  },
  {
   "cell_type": "code",
   "execution_count": 88,
   "metadata": {},
   "outputs": [],
   "source": [
    "import requests\n",
    "from bs4 import BeautifulSoup\n",
    "\n",
    "URL = \"https://realpython.github.io/fake-jobs/\"\n",
    "page = requests.get(URL)\n",
    "soup = BeautifulSoup(page.text)\n"
   ]
  },
  {
   "cell_type": "code",
   "execution_count": 89,
   "metadata": {},
   "outputs": [
    {
     "name": "stdout",
     "output_type": "stream",
     "text": [
      "<h2 class=\"title is-5\">Senior Python Developer</h2>\n"
     ]
    }
   ],
   "source": [
    "results = soup.find(\"h2\")\n",
    "print(results)"
   ]
  },
  {
   "cell_type": "code",
   "execution_count": 90,
   "metadata": {},
   "outputs": [
    {
     "name": "stdout",
     "output_type": "stream",
     "text": [
      "Senior Python Developer\n"
     ]
    }
   ],
   "source": [
    "results = soup.find(\"h2\").text\n",
    "print(results)"
   ]
  },
  {
   "attachments": {},
   "cell_type": "markdown",
   "metadata": {},
   "source": [
    "\n",
    "b. Now, use what you did for the first title, but extract the job title for all jobs on this page. Store the results in a list.  \n"
   ]
  },
  {
   "cell_type": "code",
   "execution_count": 91,
   "metadata": {},
   "outputs": [
    {
     "data": {
      "text/plain": [
       "[<h2 class=\"title is-5\">Senior Python Developer</h2>,\n",
       " <h2 class=\"title is-5\">Energy engineer</h2>,\n",
       " <h2 class=\"title is-5\">Legal executive</h2>,\n",
       " <h2 class=\"title is-5\">Fitness centre manager</h2>,\n",
       " <h2 class=\"title is-5\">Product manager</h2>,\n",
       " <h2 class=\"title is-5\">Medical technical officer</h2>,\n",
       " <h2 class=\"title is-5\">Physiological scientist</h2>,\n",
       " <h2 class=\"title is-5\">Textile designer</h2>,\n",
       " <h2 class=\"title is-5\">Television floor manager</h2>,\n",
       " <h2 class=\"title is-5\">Waste management officer</h2>,\n",
       " <h2 class=\"title is-5\">Software Engineer (Python)</h2>,\n",
       " <h2 class=\"title is-5\">Interpreter</h2>,\n",
       " <h2 class=\"title is-5\">Architect</h2>,\n",
       " <h2 class=\"title is-5\">Meteorologist</h2>,\n",
       " <h2 class=\"title is-5\">Audiological scientist</h2>,\n",
       " <h2 class=\"title is-5\">English as a second language teacher</h2>,\n",
       " <h2 class=\"title is-5\">Surgeon</h2>,\n",
       " <h2 class=\"title is-5\">Equities trader</h2>,\n",
       " <h2 class=\"title is-5\">Newspaper journalist</h2>,\n",
       " <h2 class=\"title is-5\">Materials engineer</h2>,\n",
       " <h2 class=\"title is-5\">Python Programmer (Entry-Level)</h2>,\n",
       " <h2 class=\"title is-5\">Product/process development scientist</h2>,\n",
       " <h2 class=\"title is-5\">Scientist, research (maths)</h2>,\n",
       " <h2 class=\"title is-5\">Ecologist</h2>,\n",
       " <h2 class=\"title is-5\">Materials engineer</h2>,\n",
       " <h2 class=\"title is-5\">Historic buildings inspector/conservation officer</h2>,\n",
       " <h2 class=\"title is-5\">Data scientist</h2>,\n",
       " <h2 class=\"title is-5\">Psychiatrist</h2>,\n",
       " <h2 class=\"title is-5\">Structural engineer</h2>,\n",
       " <h2 class=\"title is-5\">Immigration officer</h2>,\n",
       " <h2 class=\"title is-5\">Python Programmer (Entry-Level)</h2>,\n",
       " <h2 class=\"title is-5\">Neurosurgeon</h2>,\n",
       " <h2 class=\"title is-5\">Broadcast engineer</h2>,\n",
       " <h2 class=\"title is-5\">Make</h2>,\n",
       " <h2 class=\"title is-5\">Nurse, adult</h2>,\n",
       " <h2 class=\"title is-5\">Air broker</h2>,\n",
       " <h2 class=\"title is-5\">Editor, film/video</h2>,\n",
       " <h2 class=\"title is-5\">Production assistant, radio</h2>,\n",
       " <h2 class=\"title is-5\">Engineer, communications</h2>,\n",
       " <h2 class=\"title is-5\">Sales executive</h2>,\n",
       " <h2 class=\"title is-5\">Software Developer (Python)</h2>,\n",
       " <h2 class=\"title is-5\">Futures trader</h2>,\n",
       " <h2 class=\"title is-5\">Tour manager</h2>,\n",
       " <h2 class=\"title is-5\">Cytogeneticist</h2>,\n",
       " <h2 class=\"title is-5\">Designer, multimedia</h2>,\n",
       " <h2 class=\"title is-5\">Trade union research officer</h2>,\n",
       " <h2 class=\"title is-5\">Chemist, analytical</h2>,\n",
       " <h2 class=\"title is-5\">Programmer, multimedia</h2>,\n",
       " <h2 class=\"title is-5\">Engineer, broadcasting (operations)</h2>,\n",
       " <h2 class=\"title is-5\">Teacher, primary school</h2>,\n",
       " <h2 class=\"title is-5\">Python Developer</h2>,\n",
       " <h2 class=\"title is-5\">Manufacturing systems engineer</h2>,\n",
       " <h2 class=\"title is-5\">Producer, television/film/video</h2>,\n",
       " <h2 class=\"title is-5\">Scientist, forensic</h2>,\n",
       " <h2 class=\"title is-5\">Bonds trader</h2>,\n",
       " <h2 class=\"title is-5\">Editorial assistant</h2>,\n",
       " <h2 class=\"title is-5\">Photographer</h2>,\n",
       " <h2 class=\"title is-5\">Retail banker</h2>,\n",
       " <h2 class=\"title is-5\">Jewellery designer</h2>,\n",
       " <h2 class=\"title is-5\">Ophthalmologist</h2>,\n",
       " <h2 class=\"title is-5\">Back-End Web Developer (Python, Django)</h2>,\n",
       " <h2 class=\"title is-5\">Licensed conveyancer</h2>,\n",
       " <h2 class=\"title is-5\">Futures trader</h2>,\n",
       " <h2 class=\"title is-5\">Counselling psychologist</h2>,\n",
       " <h2 class=\"title is-5\">Insurance underwriter</h2>,\n",
       " <h2 class=\"title is-5\">Engineer, automotive</h2>,\n",
       " <h2 class=\"title is-5\">Producer, radio</h2>,\n",
       " <h2 class=\"title is-5\">Dispensing optician</h2>,\n",
       " <h2 class=\"title is-5\">Designer, fashion/clothing</h2>,\n",
       " <h2 class=\"title is-5\">Chartered loss adjuster</h2>,\n",
       " <h2 class=\"title is-5\">Back-End Web Developer (Python, Django)</h2>,\n",
       " <h2 class=\"title is-5\">Forest/woodland manager</h2>,\n",
       " <h2 class=\"title is-5\">Clinical cytogeneticist</h2>,\n",
       " <h2 class=\"title is-5\">Print production planner</h2>,\n",
       " <h2 class=\"title is-5\">Systems developer</h2>,\n",
       " <h2 class=\"title is-5\">Graphic designer</h2>,\n",
       " <h2 class=\"title is-5\">Writer</h2>,\n",
       " <h2 class=\"title is-5\">Field seismologist</h2>,\n",
       " <h2 class=\"title is-5\">Chief Strategy Officer</h2>,\n",
       " <h2 class=\"title is-5\">Air cabin crew</h2>,\n",
       " <h2 class=\"title is-5\">Python Programmer (Entry-Level)</h2>,\n",
       " <h2 class=\"title is-5\">Warden/ranger</h2>,\n",
       " <h2 class=\"title is-5\">Sports therapist</h2>,\n",
       " <h2 class=\"title is-5\">Arts development officer</h2>,\n",
       " <h2 class=\"title is-5\">Printmaker</h2>,\n",
       " <h2 class=\"title is-5\">Health and safety adviser</h2>,\n",
       " <h2 class=\"title is-5\">Manufacturing systems engineer</h2>,\n",
       " <h2 class=\"title is-5\">Programmer, applications</h2>,\n",
       " <h2 class=\"title is-5\">Medical physicist</h2>,\n",
       " <h2 class=\"title is-5\">Media planner</h2>,\n",
       " <h2 class=\"title is-5\">Software Developer (Python)</h2>,\n",
       " <h2 class=\"title is-5\">Surveyor, land/geomatics</h2>,\n",
       " <h2 class=\"title is-5\">Legal executive</h2>,\n",
       " <h2 class=\"title is-5\">Librarian, academic</h2>,\n",
       " <h2 class=\"title is-5\">Barrister</h2>,\n",
       " <h2 class=\"title is-5\">Museum/gallery exhibitions officer</h2>,\n",
       " <h2 class=\"title is-5\">Radiographer, diagnostic</h2>,\n",
       " <h2 class=\"title is-5\">Database administrator</h2>,\n",
       " <h2 class=\"title is-5\">Furniture designer</h2>,\n",
       " <h2 class=\"title is-5\">Ship broker</h2>]"
      ]
     },
     "execution_count": 91,
     "metadata": {},
     "output_type": "execute_result"
    }
   ],
   "source": [
    "jobtitles = soup.findAll(\"h2\")\n",
    "jobtitles\n",
    "\n"
   ]
  },
  {
   "cell_type": "code",
   "execution_count": 94,
   "metadata": {},
   "outputs": [
    {
     "name": "stdout",
     "output_type": "stream",
     "text": [
      "['Senior Python Developer', 'Energy engineer', 'Legal executive', 'Fitness centre manager', 'Product manager', 'Medical technical officer', 'Physiological scientist', 'Textile designer', 'Television floor manager', 'Waste management officer', 'Software Engineer (Python)', 'Interpreter', 'Architect', 'Meteorologist', 'Audiological scientist', 'English as a second language teacher', 'Surgeon', 'Equities trader', 'Newspaper journalist', 'Materials engineer', 'Python Programmer (Entry-Level)', 'Product/process development scientist', 'Scientist, research (maths)', 'Ecologist', 'Materials engineer', 'Historic buildings inspector/conservation officer', 'Data scientist', 'Psychiatrist', 'Structural engineer', 'Immigration officer', 'Python Programmer (Entry-Level)', 'Neurosurgeon', 'Broadcast engineer', 'Make', 'Nurse, adult', 'Air broker', 'Editor, film/video', 'Production assistant, radio', 'Engineer, communications', 'Sales executive', 'Software Developer (Python)', 'Futures trader', 'Tour manager', 'Cytogeneticist', 'Designer, multimedia', 'Trade union research officer', 'Chemist, analytical', 'Programmer, multimedia', 'Engineer, broadcasting (operations)', 'Teacher, primary school', 'Python Developer', 'Manufacturing systems engineer', 'Producer, television/film/video', 'Scientist, forensic', 'Bonds trader', 'Editorial assistant', 'Photographer', 'Retail banker', 'Jewellery designer', 'Ophthalmologist', 'Back-End Web Developer (Python, Django)', 'Licensed conveyancer', 'Futures trader', 'Counselling psychologist', 'Insurance underwriter', 'Engineer, automotive', 'Producer, radio', 'Dispensing optician', 'Designer, fashion/clothing', 'Chartered loss adjuster', 'Back-End Web Developer (Python, Django)', 'Forest/woodland manager', 'Clinical cytogeneticist', 'Print production planner', 'Systems developer', 'Graphic designer', 'Writer', 'Field seismologist', 'Chief Strategy Officer', 'Air cabin crew', 'Python Programmer (Entry-Level)', 'Warden/ranger', 'Sports therapist', 'Arts development officer', 'Printmaker', 'Health and safety adviser', 'Manufacturing systems engineer', 'Programmer, applications', 'Medical physicist', 'Media planner', 'Software Developer (Python)', 'Surveyor, land/geomatics', 'Legal executive', 'Librarian, academic', 'Barrister', 'Museum/gallery exhibitions officer', 'Radiographer, diagnostic', 'Database administrator', 'Furniture designer', 'Ship broker']\n"
     ]
    }
   ],
   "source": [
    "jobtitles_text = [] \n",
    "\n",
    "for jobtitle in jobtitles:\n",
    "    jobtitle_text = jobtitle.text.strip()\n",
    "    jobtitles_text.append(jobtitle_text)  \n",
    "\n",
    "print(jobtitles_text)"
   ]
  },
  {
   "attachments": {},
   "cell_type": "markdown",
   "metadata": {},
   "source": [
    "c. Finally, extract the companies, locations, and posting dates for each job. For example, the first job has a company of \"Payne, Roberts and Davis\", a location of \"Stewartbury, AA\", and a posting date of \"2021-04-08\". Ensure that the text that you extract is clean, meaning no extra spaces or other characters at the beginning or end.  \n"
   ]
  },
  {
   "cell_type": "code",
   "execution_count": null,
   "metadata": {},
   "outputs": [],
   "source": []
  },
  {
   "attachments": {},
   "cell_type": "markdown",
   "metadata": {},
   "source": [
    "\n",
    "d. Take the lists that you have created and combine them into a pandas DataFrame. \n",
    "\n",
    "2. Next, add a column that contains the url for the \"Apply\" button. Try this in two ways.   \n",
    "    a. First, use the BeautifulSoup find_all method to extract the urls.  \n",
    "    b. Next, get those same urls in a different way. Examine the urls and see if you can spot the pattern of how they are constructed. Then, build the url using the elements you have already extracted. Ensure that the urls that you created match those that you extracted using BeautifulSoup. Warning: You will need to do some string cleaning and prep in constructing the urls this way. For example, look carefully at the urls for the \"Software Engineer (Python)\" job and the \"Scientist, research (maths)\" job.\n",
    "    \n",
    "3. Finally, we want to get the job description text for each job.  \n",
    "    a. Start by looking at the page for the first job, https://realpython.github.io/fake-jobs/jobs/senior-python-developer-0.html. Using BeautifulSoup, extract the job description paragraph.  \n",
    "    b. We want to be able to do this for all pages. Write a function which takes as input a url and returns the description text on that page. For example, if you input \"https://realpython.github.io/fake-jobs/jobs/television-floor-manager-8.html\" into your function, it should return the string \"At be than always different American address. Former claim chance prevent why measure too. Almost before some military outside baby interview. Face top individual win suddenly. Parent do ten after those scientist. Medical effort assume teacher wall. Significant his himself clearly very. Expert stop area along individual. Three own bank recognize special good along.\".  \n",
    "    c. Use the [.apply method](https://pandas.pydata.org/docs/reference/api/pandas.Series.apply.html) on the url column you created above to retrieve the description text for all of the jobs."
   ]
  }
 ],
 "metadata": {
  "kernelspec": {
   "display_name": "base",
   "language": "python",
   "name": "python3"
  },
  "language_info": {
   "codemirror_mode": {
    "name": "ipython",
    "version": 3
   },
   "file_extension": ".py",
   "mimetype": "text/x-python",
   "name": "python",
   "nbconvert_exporter": "python",
   "pygments_lexer": "ipython3",
   "version": "3.10.9"
  },
  "orig_nbformat": 4
 },
 "nbformat": 4,
 "nbformat_minor": 2
}
